{
 "cells": [
  {
   "cell_type": "markdown",
   "metadata": {},
   "source": [
    "__<h1> Linear Algebra (CpE210A)__"
   ]
  },
  {
   "cell_type": "markdown",
   "metadata": {},
   "source": [
    "__<h2> Laboratory 1: Getting acquainted with Python__"
   ]
  },
  {
   "cell_type": "markdown",
   "metadata": {},
   "source": [
    "Coded and Submitted by:\n",
    "<br> _Vitales, Nicole Keith D._\n",
    "<br> Section: 58010"
   ]
  },
  {
   "cell_type": "markdown",
   "metadata": {},
   "source": [
    "__Lab Exercise:__"
   ]
  },
  {
   "cell_type": "code",
   "execution_count": 1,
   "metadata": {},
   "outputs": [],
   "source": [
    "party = ['Charmander', 'Pidgey', 'Sanshrew', 'Rattata', 'Abra']\n",
    "levels = [15, 11, 18, 5, 14]"
   ]
  },
  {
   "cell_type": "code",
   "execution_count": 8,
   "metadata": {},
   "outputs": [
    {
     "name": "stdout",
     "output_type": "stream",
     "text": [
      "Charmander at level 15\n",
      "Pidgey at level 11\n",
      "Sanshrew at level 18\n",
      "Rattata at level 5\n",
      "Abra at level 14\n"
     ]
    }
   ],
   "source": [
    "for pokemon, level in zip(party, levels):\n",
    "    print(pokemon + \" at level \" + str(level))"
   ]
  },
  {
   "cell_type": "code",
   "execution_count": 12,
   "metadata": {},
   "outputs": [],
   "source": [
    "reserves = [\n",
    "    ('Onix', 10),\n",
    "    ('Slowpoke', 18),\n",
    "    ('Dialga', 2),\n",
    "    ('Magikarp', 32),\n",
    "    ('Feebas', 22),\n",
    "    ('Swablu', 19),\n",
    "    ('Regigigas', 3),\n",
    "    ('Onown', 50)\n",
    "]"
   ]
  },
  {
   "cell_type": "code",
   "execution_count": 11,
   "metadata": {
    "scrolled": true
   },
   "outputs": [
    {
     "name": "stdout",
     "output_type": "stream",
     "text": [
      "['Dialga', 'Regigigas', 'Onix']\n"
     ]
    }
   ],
   "source": [
    "levels = lambda reserves: reserves[1]\n",
    "reserves.sort(key=levels)\n",
    "print([pokemon[0] for pokemon in reserves[0:3]])"
   ]
  },
  {
   "cell_type": "code",
   "execution_count": 2,
   "metadata": {},
   "outputs": [],
   "source": [
    "def create_party(party, candidates):\n",
    "    return suggested_parties"
   ]
  },
  {
   "cell_type": "code",
   "execution_count": 24,
   "metadata": {},
   "outputs": [
    {
     "name": "stdout",
     "output_type": "stream",
     "text": [
      "['Charmander', 'Pidgey', 'Sandshrew', 'Rattata', 'Abra', 'Dialga']\n",
      "['Charmander', 'Pidgey', 'Sandshrew', 'Rattata', 'Abra', 'Regigigas']\n",
      "['Charmander', 'Pidgey', 'Sandshrew', 'Rattata', 'Abra', 'Onix']\n"
     ]
    }
   ],
   "source": [
    "party1 = ['Charmander', 'Pidgey', 'Sandshrew', 'Rattata', 'Abra']\n",
    "party2 = ['Charmander', 'Pidgey', 'Sandshrew', 'Rattata', 'Abra']\n",
    "party3 = ['Charmander', 'Pidgey', 'Sandshrew', 'Rattata', 'Abra']\n",
    "\n",
    "reserves = [('Onix', 10), ('Slowpoke', 18), ('Dialga', 2), ('Magikarp', 32), ('Feebas', 22), ('Swablu', 19), ('Regigigas', 3), \n",
    "            ('Onown', 50)]\n",
    "\n",
    "levels = lambda reserves: reserves[1]\n",
    "reserves.sort(key=levels)\n",
    "\n",
    "party1.extend([pokemon[0] for pokemon in reserves[0:1]])\n",
    "party2.extend([pokemon[0] for pokemon in reserves[1:2]])\n",
    "party3.extend([pokemon[0] for pokemon in reserves[2:3]])\n",
    "\n",
    "print(party1)\n",
    "print(party2)\n",
    "print(party3)"
   ]
  },
  {
   "cell_type": "markdown",
   "metadata": {},
   "source": [
    "<h3> Discussions"
   ]
  },
  {
   "cell_type": "markdown",
   "metadata": {},
   "source": [
    "_<h4>For your observations section, kindly discuss your code implementation per graded cell._"
   ]
  },
  {
   "cell_type": "markdown",
   "metadata": {},
   "source": [
    "1. In your perspective, what is the difference between Python and C++ or other languages you have used before? (30 words)\n",
    "2. Enumerate and briefly discuss the functions you have used in the laboratory exercise, please cite their usage using their respective documentations. (200 words)\n",
    "3. In your perspective, what is the advantages and disadvantages of using Python and Jupyter Notebooks? (100 words)"
   ]
  }
 ],
 "metadata": {
  "kernelspec": {
   "display_name": "Python 3",
   "language": "python",
   "name": "python3"
  },
  "language_info": {
   "codemirror_mode": {
    "name": "ipython",
    "version": 3
   },
   "file_extension": ".py",
   "mimetype": "text/x-python",
   "name": "python",
   "nbconvert_exporter": "python",
   "pygments_lexer": "ipython3",
   "version": "3.8.3"
  }
 },
 "nbformat": 4,
 "nbformat_minor": 4
}
