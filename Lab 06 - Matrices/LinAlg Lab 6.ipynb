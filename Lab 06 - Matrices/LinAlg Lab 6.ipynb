{
 "cells": [
  {
   "cell_type": "markdown",
   "metadata": {},
   "source": [
    "# Linear Algebra for CpE\n",
    "## Laboratory 6 : Matrices"
   ]
  },
  {
   "cell_type": "markdown",
   "metadata": {},
   "source": [
    "Now that you have a fundamental knowledge about vector representations, we'll try to look into greater dimensions."
   ]
  },
  {
   "cell_type": "markdown",
   "metadata": {},
   "source": [
    "### Objectives\n",
    "At the end of this activity you will be able to:\n",
    "1. Be familiar with matrices and their relation to linear equations.\n",
    "2. Perform basic matrix operations.\n",
    "3. Program and translate matrix equations and operations using Python."
   ]
  },
  {
   "cell_type": "markdown",
   "metadata": {},
   "source": [
    "# Discussion"
   ]
  },
  {
   "cell_type": "code",
   "execution_count": 1,
   "metadata": {},
   "outputs": [],
   "source": [
    "import numpy as np\n",
    "import matplotlib.pyplot as plt\n",
    "import scipy.linalg as la\n",
    "%matplotlib inline"
   ]
  },
  {
   "cell_type": "markdown",
   "metadata": {},
   "source": [
    "### Matrices"
   ]
  },
  {
   "cell_type": "markdown",
   "metadata": {},
   "source": [
    "The notation and use of matrices is probably one of the fundamentals of modern computing. Matrices are also handy representations of complex equations or multiple inter-related equations from 2-dimensional equations to even hundreds and thousands of them."
   ]
  },
  {
   "cell_type": "markdown",
   "metadata": {},
   "source": [
    "Let's say for example you have $A$ and $B$ as system of equation."
   ]
  },
  {
   "cell_type": "markdown",
   "metadata": {},
   "source": [
    "$$\n",
    "A = \\left\\{\n",
    "    \\begin{array}\\\\\n",
    "        x + y \\\\ \n",
    "        4x - 10y\n",
    "    \\end{array}\n",
    "\\right. \\\\\n",
    "B = \\left\\{\n",
    "    \\begin{array}\\\\\n",
    "        x+y+z \\\\ \n",
    "        3x -2y -z \\\\\n",
    "        -x + 4y +2z\n",
    "    \\end{array}\n",
    "\\right. $$"
   ]
  },
  {
   "cell_type": "markdown",
   "metadata": {},
   "source": [
    "We could see that $A$ is a system of 2 equations with 2 parameters. While $B$ is a system of 3 equations with 3 parameters. We can represent them as matrices as:"
   ]
  },
  {
   "cell_type": "markdown",
   "metadata": {},
   "source": [
    "$$\n",
    "A=\\begin{bmatrix} 1 & 1 \\\\ 4 & {-10}\\end{bmatrix} \\\\\n",
    "B=\\begin{bmatrix} 1 & 1 & 1 \\\\ 3 & -2 & -1 \\\\ -1 & 4 & 2\\end{bmatrix}\n",
    "$$"
   ]
  },
  {
   "cell_type": "markdown",
   "metadata": {},
   "source": [
    "So assuming that you already discussed the fundamental representation of matrices, their types, and operations. We'll proceed in doing them in here in Python."
   ]
  },
  {
   "cell_type": "markdown",
   "metadata": {},
   "source": [
    "### Declaring Matrices"
   ]
  },
  {
   "cell_type": "markdown",
   "metadata": {},
   "source": [
    "Just like our previous laboratory activity, we'll represent system of linear equations as a matrix. The entities or numbers in matrices are called the elements of a matrix. These elements are arranged and ordered in rows and columns which form the list/array-like structure of matrices. And just like arrays, these elements are indexed according to their position with respect to their rows and columns. This can be reprsented just like the equation below. Whereas $A$ is a matrix consisting of elements denoted by $a_{i,j}$. Denoted by $i$ is the number of rows in the matrix while $j$ stands for the number of columns.<br>\n",
    "Do note that the $size$ of a matrix is $i\\times j$."
   ]
  },
  {
   "cell_type": "markdown",
   "metadata": {},
   "source": [
    "$$A=\\begin{bmatrix}\n",
    "a_{(0,0)}&a_{(0,1)}&\\dots&a_{(0,j-1)}\\\\\n",
    "a_{(1,0)}&a_{(1,1)}&\\dots&a_{(1,j-1)}\\\\\n",
    "\\vdots&\\vdots&\\ddots&\\vdots&\\\\\n",
    "a_{(i-1,0)}&a_{(i-1,1)}&\\dots&a_{(i-1,j-1)}\n",
    "\\end{bmatrix}\n",
    "$$"
   ]
  },
  {
   "cell_type": "markdown",
   "metadata": {},
   "source": [
    "We already gone over some of the types of matrices as vectors but we'll further discuss them in this laboratory activity. Since you already know how to describe vectors using <b>shape</b>, <b>dimensions</b> and <b>size</b> attributes, we'll use them to analyze these matrices."
   ]
  },
  {
   "cell_type": "code",
   "execution_count": 2,
   "metadata": {},
   "outputs": [],
   "source": [
    "## Since we'll keep on describing matrices. Let's make a function.\n",
    "def describe_mat(matrix):\n",
    "    print(f'Matrix:\\n{matrix}\\n\\nShape:\\t{matrix.shape}\\nRank:\\t{matrix.ndim}\\n')"
   ]
  },
  {
   "cell_type": "code",
   "execution_count": 15,
   "metadata": {},
   "outputs": [
    {
     "name": "stdout",
     "output_type": "stream",
     "text": [
      "Matrix:\n",
      "[[1 2]\n",
      " [3 1]]\n",
      "\n",
      "Shape:\t(2, 2)\n",
      "Rank:\t2\n",
      "\n",
      "Size: 4\n"
     ]
    }
   ],
   "source": [
    "## Declaring a 2 x 2 matrix\n",
    "A = np.array([\n",
    "    [1, 2],\n",
    "    [3, 1]\n",
    "])\n",
    "describe_mat(A)\n",
    "print('Size: ' + str(A.size))"
   ]
  },
  {
   "cell_type": "code",
   "execution_count": 5,
   "metadata": {},
   "outputs": [
    {
     "name": "stdout",
     "output_type": "stream",
     "text": [
      "Matrix:\n",
      "[[1 1]\n",
      " [2 2]]\n",
      "\n",
      "Shape:\t(2, 2)\n",
      "Rank:\t2\n",
      "\n"
     ]
    }
   ],
   "source": [
    "G = np.array([\n",
    "    [1,1],\n",
    "    [2,2]\n",
    "])\n",
    "describe_mat(G)"
   ]
  },
  {
   "cell_type": "code",
   "execution_count": 6,
   "metadata": {},
   "outputs": [
    {
     "name": "stdout",
     "output_type": "stream",
     "text": [
      "Matrix:\n",
      "[[8 2]\n",
      " [5 4]\n",
      " [1 1]]\n",
      "\n",
      "Shape:\t(3, 2)\n",
      "Rank:\t2\n",
      "\n"
     ]
    }
   ],
   "source": [
    "## Declaring a 3 x 2 matrix\n",
    "B = np.array([\n",
    "    [8, 2],\n",
    "    [5, 4],\n",
    "    [1, 1]\n",
    "])\n",
    "describe_mat(B)"
   ]
  },
  {
   "cell_type": "code",
   "execution_count": 8,
   "metadata": {},
   "outputs": [
    {
     "name": "stdout",
     "output_type": "stream",
     "text": [
      "Matrix:\n",
      "[1 2 3 4 5]\n",
      "\n",
      "Shape:\t(5,)\n",
      "Rank:\t1\n",
      "\n"
     ]
    }
   ],
   "source": [
    "H = np.array([1,2,3,4,5])\n",
    "describe_mat(H)"
   ]
  },
  {
   "cell_type": "markdown",
   "metadata": {},
   "source": [
    "## Categorizing Matrices"
   ]
  },
  {
   "cell_type": "markdown",
   "metadata": {},
   "source": [
    "There are several ways of classifying matrices. Once could be according to their <b>shape</b> and another is according to their <b>element values</b>. We'll try to go through them."
   ]
  },
  {
   "cell_type": "markdown",
   "metadata": {},
   "source": [
    "### According to shape"
   ]
  },
  {
   "cell_type": "markdown",
   "metadata": {},
   "source": [
    "#### Row and Column Matrices"
   ]
  },
  {
   "cell_type": "markdown",
   "metadata": {},
   "source": [
    "Row and column matrices are common in vector and matrix computations. They can also represent row and column spaces of a bigger vector space. Row and column matrices are represented by a single column or single row. So with that being, the shape of row matrices would be $1 \\times j$ and column matrices would be $i \\times 1$."
   ]
  },
  {
   "cell_type": "code",
   "execution_count": 10,
   "metadata": {},
   "outputs": [
    {
     "name": "stdout",
     "output_type": "stream",
     "text": [
      "Matrix:\n",
      "[1 3 2]\n",
      "\n",
      "Shape:\t(3,)\n",
      "Rank:\t1\n",
      "\n",
      "Matrix:\n",
      "[[1 2 3]]\n",
      "\n",
      "Shape:\t(1, 3)\n",
      "Rank:\t2\n",
      "\n"
     ]
    }
   ],
   "source": [
    "## Declaring a Row Matrix\n",
    "\n",
    "row_mat_1D = np.array([\n",
    "    1, 3, 2\n",
    "]) ## this is a 1-D Matrix with a shape of (3,), it's not really considered as a row matrix.\n",
    "row_mat_2D = np.array([\n",
    "    [1,2,3]\n",
    "]) ## this is a 2-D Matrix with a shape of (1,3)\n",
    "describe_mat(row_mat_1D)\n",
    "describe_mat(row_mat_2D)"
   ]
  },
  {
   "cell_type": "code",
   "execution_count": 11,
   "metadata": {},
   "outputs": [
    {
     "name": "stdout",
     "output_type": "stream",
     "text": [
      "Matrix:\n",
      "[[1]\n",
      " [2]\n",
      " [5]]\n",
      "\n",
      "Shape:\t(3, 1)\n",
      "Rank:\t2\n",
      "\n"
     ]
    }
   ],
   "source": [
    "## Declaring a Column Matrix\n",
    "\n",
    "col_mat = np.array([\n",
    "    [1],\n",
    "    [2],\n",
    "    [5]\n",
    "]) ## this is a 2-D Matrix with a shape of (3,1)\n",
    "describe_mat(col_mat)"
   ]
  },
  {
   "cell_type": "markdown",
   "metadata": {},
   "source": [
    "#### Square Matrices"
   ]
  },
  {
   "cell_type": "markdown",
   "metadata": {},
   "source": [
    "Square matrices are matrices that have the same row and column sizes. We could say a matrix is square if $i = j$. We can tweak our matrix descriptor function to determine square matrices."
   ]
  },
  {
   "cell_type": "code",
   "execution_count": 12,
   "metadata": {},
   "outputs": [],
   "source": [
    "def describe_mat(matrix):\n",
    "    is_square = True if matrix.shape[0] == matrix.shape[1] else False \n",
    "    print(f'Matrix:\\n{matrix}\\n\\nShape:\\t{matrix.shape}\\nRank:\\t{matrix.ndim}\\nIs Square: {is_square}\\n')"
   ]
  },
  {
   "cell_type": "code",
   "execution_count": 22,
   "metadata": {},
   "outputs": [
    {
     "name": "stdout",
     "output_type": "stream",
     "text": [
      "Matrix:\n",
      "[[1 2 5]\n",
      " [3 3 8]\n",
      " [6 1 2]]\n",
      "\n",
      "Shape:\t(3, 3)\n",
      "Rank:\t2\n",
      "Is Square: True\n",
      "\n",
      "Matrix:\n",
      "[[1 2 5]\n",
      " [3 3 8]]\n",
      "\n",
      "Shape:\t(2, 3)\n",
      "Rank:\t2\n",
      "Is Square: False\n",
      "\n"
     ]
    }
   ],
   "source": [
    "square_mat = np.array([\n",
    "    [1,2,5],\n",
    "    [3,3,8],\n",
    "    [6,1,2]\n",
    "])\n",
    "\n",
    "non_square_mat = np.array([\n",
    "    [1,2,5],\n",
    "    [3,3,8]\n",
    "])\n",
    "describe_mat(square_mat)\n",
    "describe_mat(non_square_mat)"
   ]
  },
  {
   "cell_type": "markdown",
   "metadata": {},
   "source": [
    "### According to element values"
   ]
  },
  {
   "cell_type": "markdown",
   "metadata": {},
   "source": [
    "#### Null Matrix"
   ]
  },
  {
   "cell_type": "markdown",
   "metadata": {},
   "source": [
    "A Null Matrix is a matrix that has no elements. It is always a subspace of any vector or matrix."
   ]
  },
  {
   "cell_type": "code",
   "execution_count": 25,
   "metadata": {},
   "outputs": [],
   "source": [
    "def describe_mat(matrix):\n",
    "    if matrix.size > 0:\n",
    "        is_square = True if matrix.shape[0] == matrix.shape[1] else False \n",
    "        print(f'Matrix:\\n{matrix}\\n\\nShape:\\t{matrix.shape}\\nRank:\\t{matrix.ndim}\\nIs Square: {is_square}\\n')\n",
    "    else:\n",
    "        print('Matrix is Null')"
   ]
  },
  {
   "cell_type": "code",
   "execution_count": 26,
   "metadata": {},
   "outputs": [
    {
     "name": "stdout",
     "output_type": "stream",
     "text": [
      "Matrix is Null\n"
     ]
    }
   ],
   "source": [
    "null_mat = np.array([])\n",
    "describe_mat(null_mat)"
   ]
  },
  {
   "cell_type": "markdown",
   "metadata": {},
   "source": [
    "#### Zero Matrix"
   ]
  },
  {
   "cell_type": "markdown",
   "metadata": {},
   "source": [
    "A zero matrix can be any rectangular matrix but with all elements having a value of 0."
   ]
  },
  {
   "cell_type": "code",
   "execution_count": 27,
   "metadata": {},
   "outputs": [
    {
     "name": "stdout",
     "output_type": "stream",
     "text": [
      "Zero Row Matrix: \n",
      "[[0. 0.]]\n",
      "Zero Square Matrix: \n",
      "[[0. 0.]\n",
      " [0. 0.]]\n",
      "Zero Rectangular Matrix: \n",
      "[[0. 0.]\n",
      " [0. 0.]\n",
      " [0. 0.]]\n"
     ]
    }
   ],
   "source": [
    "zero_mat_row = np.zeros((1,2))\n",
    "zero_mat_sqr = np.zeros((2,2))\n",
    "zero_mat_rct = np.zeros((3,2))\n",
    "\n",
    "print(f'Zero Row Matrix: \\n{zero_mat_row}')\n",
    "print(f'Zero Square Matrix: \\n{zero_mat_sqr}')\n",
    "print(f'Zero Rectangular Matrix: \\n{zero_mat_rct}')"
   ]
  },
  {
   "cell_type": "markdown",
   "metadata": {},
   "source": [
    "#### Ones Matrix"
   ]
  },
  {
   "cell_type": "markdown",
   "metadata": {},
   "source": [
    "A ones matrix, just like the zero matrix, can be any rectangular matrix but all of its elements are 1s instead of 0s."
   ]
  },
  {
   "cell_type": "code",
   "execution_count": 16,
   "metadata": {},
   "outputs": [
    {
     "name": "stdout",
     "output_type": "stream",
     "text": [
      "Ones Row Matrix: \n",
      "[[1. 1.]]\n",
      "Ones Square Matrix: \n",
      "[[1. 1.]\n",
      " [1. 1.]]\n",
      "Ones Rectangular Matrix: \n",
      "[[1. 1.]\n",
      " [1. 1.]\n",
      " [1. 1.]]\n"
     ]
    }
   ],
   "source": [
    "ones_mat_row = np.ones((1,2))\n",
    "ones_mat_sqr = np.ones((2,2))\n",
    "ones_mat_rct = np.ones((3,2))\n",
    "\n",
    "print(f'Ones Row Matrix: \\n{ones_mat_row}')\n",
    "print(f'Ones Square Matrix: \\n{ones_mat_sqr}')\n",
    "print(f'Ones Rectangular Matrix: \\n{ones_mat_rct}')"
   ]
  },
  {
   "cell_type": "markdown",
   "metadata": {},
   "source": [
    "#### Diagonal Matrix"
   ]
  },
  {
   "cell_type": "markdown",
   "metadata": {},
   "source": [
    "A diagonal matrix is a square matrix that has values only at the diagonal of the matrix. "
   ]
  },
  {
   "cell_type": "code",
   "execution_count": 24,
   "metadata": {},
   "outputs": [
    {
     "data": {
      "text/plain": [
       "array([[2, 0, 0],\n",
       "       [0, 3, 0],\n",
       "       [0, 0, 5]])"
      ]
     },
     "execution_count": 24,
     "metadata": {},
     "output_type": "execute_result"
    }
   ],
   "source": [
    "np.array([\n",
    "    [2,0,0],\n",
    "    [0,3,0],\n",
    "    [0,0,5]\n",
    "])\n",
    "# a[1,1], a[2,2], a[3,3], ... a[n-1,n-1]"
   ]
  },
  {
   "cell_type": "code",
   "execution_count": 32,
   "metadata": {},
   "outputs": [
    {
     "data": {
      "text/plain": [
       "array([2, 3, 5, 7])"
      ]
     },
     "execution_count": 32,
     "metadata": {},
     "output_type": "execute_result"
    }
   ],
   "source": [
    "d = np.diag([2,3,5,7])\n",
    "np.diag(d).shape == d.shape[0] == d.shape[1]\n"
   ]
  },
  {
   "cell_type": "markdown",
   "metadata": {},
   "source": [
    "#### Identity Matrix"
   ]
  },
  {
   "cell_type": "markdown",
   "metadata": {},
   "source": [
    "An identity matrix is a special diagonal matrix in which the values at the diagonal are ones."
   ]
  },
  {
   "cell_type": "code",
   "execution_count": 34,
   "metadata": {},
   "outputs": [
    {
     "data": {
      "text/plain": [
       "array([[1., 0., 0., 0., 0.],\n",
       "       [0., 1., 0., 0., 0.],\n",
       "       [0., 0., 1., 0., 0.],\n",
       "       [0., 0., 0., 1., 0.],\n",
       "       [0., 0., 0., 0., 1.]])"
      ]
     },
     "execution_count": 34,
     "metadata": {},
     "output_type": "execute_result"
    }
   ],
   "source": [
    "np.eye(5)"
   ]
  },
  {
   "cell_type": "code",
   "execution_count": 35,
   "metadata": {},
   "outputs": [
    {
     "data": {
      "text/plain": [
       "array([[1., 0., 0., 0., 0.],\n",
       "       [0., 1., 0., 0., 0.],\n",
       "       [0., 0., 1., 0., 0.],\n",
       "       [0., 0., 0., 1., 0.],\n",
       "       [0., 0., 0., 0., 1.]])"
      ]
     },
     "execution_count": 35,
     "metadata": {},
     "output_type": "execute_result"
    }
   ],
   "source": [
    "np.identity(5)"
   ]
  },
  {
   "cell_type": "markdown",
   "metadata": {},
   "source": [
    "#### Upper Triangular Matrix"
   ]
  },
  {
   "cell_type": "markdown",
   "metadata": {},
   "source": [
    "An upper triangular matrix is a matrix that has no values below the diagonal. "
   ]
  },
  {
   "cell_type": "code",
   "execution_count": 36,
   "metadata": {},
   "outputs": [
    {
     "data": {
      "text/plain": [
       "array([[1, 2, 3],\n",
       "       [0, 3, 1],\n",
       "       [0, 0, 5]])"
      ]
     },
     "execution_count": 36,
     "metadata": {},
     "output_type": "execute_result"
    }
   ],
   "source": [
    "np.array([\n",
    "    [1,2,3],\n",
    "    [0,3,1],\n",
    "    [0,0,5]\n",
    "])"
   ]
  },
  {
   "cell_type": "markdown",
   "metadata": {},
   "source": [
    "#### Lower Triangular Matrix"
   ]
  },
  {
   "cell_type": "markdown",
   "metadata": {},
   "source": [
    "A lower triangular matrix is a matrix that has no values above the diagonal."
   ]
  },
  {
   "cell_type": "code",
   "execution_count": 37,
   "metadata": {},
   "outputs": [
    {
     "data": {
      "text/plain": [
       "array([[1, 0, 0],\n",
       "       [5, 3, 0],\n",
       "       [7, 8, 5]])"
      ]
     },
     "execution_count": 37,
     "metadata": {},
     "output_type": "execute_result"
    }
   ],
   "source": [
    "np.array([\n",
    "    [1,0,0],\n",
    "    [5,3,0],\n",
    "    [7,8,5]\n",
    "])"
   ]
  },
  {
   "cell_type": "markdown",
   "metadata": {},
   "source": [
    "## Practice"
   ]
  },
  {
   "cell_type": "markdown",
   "metadata": {},
   "source": [
    "1. Given the linear combination below, try to create a corresponding matrix representing it."
   ]
  },
  {
   "cell_type": "markdown",
   "metadata": {},
   "source": [
    "$$\\theta = 5x + 3y - z$$"
   ]
  },
  {
   "cell_type": "code",
   "execution_count": 38,
   "metadata": {},
   "outputs": [
    {
     "name": "stdout",
     "output_type": "stream",
     "text": [
      "Matrix:\n",
      "[[ 5  3 -1]]\n",
      "\n",
      "Shape:\t(1, 3)\n",
      "Rank:\t2\n",
      "Is Square: False\n",
      "\n"
     ]
    }
   ],
   "source": [
    "theta = np.array([\n",
    "              [5,3,-1],\n",
    "])\n",
    "describe_mat(theta)"
   ]
  },
  {
   "cell_type": "markdown",
   "metadata": {},
   "source": [
    "2. Given the system of linear combinations below, try to encode it as a matrix. Also describe the matrix."
   ]
  },
  {
   "cell_type": "markdown",
   "metadata": {},
   "source": [
    "$$\n",
    "A = \\left\\{\\begin{array}\n",
    "5x_1 + 2x_2 +x_3\\\\\n",
    "4x_2 - x_3\\\\\n",
    "10x_3\n",
    "\\end{array}\\right.\n",
    "$$"
   ]
  },
  {
   "cell_type": "code",
   "execution_count": 39,
   "metadata": {},
   "outputs": [
    {
     "name": "stdout",
     "output_type": "stream",
     "text": [
      "Matrix:\n",
      "[[ 1  2  1]\n",
      " [ 0  4 -1]\n",
      " [ 0  0 10]]\n",
      "\n",
      "Shape:\t(3, 3)\n",
      "Rank:\t2\n",
      "Is Square: True\n",
      "\n"
     ]
    }
   ],
   "source": [
    "number2_mat = np.array([\n",
    "             [1,2,1],\n",
    "             [0,4,-1],\n",
    "             [0,0,10]\n",
    "])\n",
    "describe_mat(number2_mat)"
   ]
  },
  {
   "cell_type": "markdown",
   "metadata": {},
   "source": [
    "3. Given the matrix below, express it as a linear combination in a markdown."
   ]
  },
  {
   "cell_type": "code",
   "execution_count": 41,
   "metadata": {},
   "outputs": [],
   "source": [
    "G = np.array([\n",
    "    [1,7,8],\n",
    "    [2,2,2],\n",
    "    [4,6,7]\n",
    "])\n"
   ]
  },
  {
   "cell_type": "markdown",
   "metadata": {},
   "source": [
    "$$G = \n",
    "\\begin{bmatrix}1&7&8\\\\2&2&2\\\\4&6&7\n",
    "\\end{bmatrix}$$"
   ]
  },
  {
   "cell_type": "markdown",
   "metadata": {},
   "source": [
    "$$G=\\left\\{\\begin{array} 1g_1+7g_2+8g_3 \\\\2g_1+2g_2+2g_3\\\\4g_1+6g_2+7g_3\n",
    "\\end{array}\\right.$$"
   ]
  },
  {
   "cell_type": "markdown",
   "metadata": {},
   "source": [
    "4. Given the matrix below, display the output as a LaTeX makdown also express it as a system of linear combinations."
   ]
  },
  {
   "cell_type": "code",
   "execution_count": 42,
   "metadata": {},
   "outputs": [
    {
     "data": {
      "text/plain": [
       "array([[1, 0, 0],\n",
       "       [2, 2, 0],\n",
       "       [4, 6, 7]])"
      ]
     },
     "execution_count": 42,
     "metadata": {},
     "output_type": "execute_result"
    }
   ],
   "source": [
    "H = np.tril(G)\n",
    "H"
   ]
  },
  {
   "cell_type": "markdown",
   "metadata": {},
   "source": [
    "$$\n",
    "H = \\left\\{\\begin{array}\n",
    "1x_1\\\\\n",
    "2x_1+ 2y_2\\\\\n",
    "4x_1+ 6y_2 +7z_3\n",
    "\\end{array}\\right.\n",
    "$$"
   ]
  },
  {
   "cell_type": "markdown",
   "metadata": {},
   "source": [
    "$$\\begin{equation*}\n",
    "H = \n",
    "\\begin{bmatrix}\n",
    "1 & 0 & 0 \\\\\n",
    "2 & 2 & 0 \\\\\n",
    "4 & 6 & 7\n",
    "\\end{bmatrix}\n",
    "\\end{equation*}$$"
   ]
  },
  {
   "cell_type": "markdown",
   "metadata": {},
   "source": [
    "# Matrix Algebra"
   ]
  },
  {
   "cell_type": "markdown",
   "metadata": {},
   "source": [
    "### Addition"
   ]
  },
  {
   "cell_type": "code",
   "execution_count": 48,
   "metadata": {},
   "outputs": [
    {
     "data": {
      "text/plain": [
       "array([[3, 4],\n",
       "       [2, 3],\n",
       "       [5, 2]])"
      ]
     },
     "execution_count": 48,
     "metadata": {},
     "output_type": "execute_result"
    }
   ],
   "source": [
    "A = np.array([\n",
    "    [1,2],\n",
    "    [2,3],\n",
    "    [4,1]\n",
    "])\n",
    "B = np.array([\n",
    "    [2,2],\n",
    "    [0,0],\n",
    "    [1,1]\n",
    "])\n",
    "A+B"
   ]
  },
  {
   "cell_type": "code",
   "execution_count": 54,
   "metadata": {},
   "outputs": [
    {
     "data": {
      "text/plain": [
       "array([[3, 4],\n",
       "       [4, 5],\n",
       "       [6, 3]])"
      ]
     },
     "execution_count": 54,
     "metadata": {},
     "output_type": "execute_result"
    }
   ],
   "source": [
    "2+A ##Broadcasting\n",
    "# 2*np.ones(A.shape)+A"
   ]
  },
  {
   "cell_type": "markdown",
   "metadata": {},
   "source": [
    "### Subtraction"
   ]
  },
  {
   "cell_type": "code",
   "execution_count": 49,
   "metadata": {
    "collapsed": true,
    "jupyter": {
     "outputs_hidden": true
    }
   },
   "outputs": [
    {
     "data": {
      "text/plain": [
       "array([[-1,  0],\n",
       "       [ 2,  3],\n",
       "       [ 3,  0]])"
      ]
     },
     "execution_count": 49,
     "metadata": {},
     "output_type": "execute_result"
    }
   ],
   "source": [
    "A-B"
   ]
  },
  {
   "cell_type": "code",
   "execution_count": 59,
   "metadata": {},
   "outputs": [
    {
     "data": {
      "text/plain": [
       "array([[ True,  True],\n",
       "       [ True,  True],\n",
       "       [ True,  True]])"
      ]
     },
     "execution_count": 59,
     "metadata": {},
     "output_type": "execute_result"
    }
   ],
   "source": [
    "3-B == 3*np.ones(B.shape)-B"
   ]
  },
  {
   "cell_type": "markdown",
   "metadata": {},
   "source": [
    "### Element-wise Multiplication"
   ]
  },
  {
   "cell_type": "code",
   "execution_count": 67,
   "metadata": {},
   "outputs": [
    {
     "data": {
      "text/plain": [
       "array([[2, 4],\n",
       "       [0, 0],\n",
       "       [4, 1]])"
      ]
     },
     "execution_count": 67,
     "metadata": {},
     "output_type": "execute_result"
    }
   ],
   "source": [
    "A*B\n",
    "np.multiply(A,B)"
   ]
  },
  {
   "cell_type": "code",
   "execution_count": 60,
   "metadata": {},
   "outputs": [
    {
     "data": {
      "text/plain": [
       "array([[2, 4],\n",
       "       [4, 6],\n",
       "       [8, 2]])"
      ]
     },
     "execution_count": 60,
     "metadata": {},
     "output_type": "execute_result"
    }
   ],
   "source": [
    "2*A"
   ]
  },
  {
   "cell_type": "code",
   "execution_count": 64,
   "metadata": {},
   "outputs": [
    {
     "data": {
      "text/plain": [
       "array([[5.e-01, 1.e+00],\n",
       "       [2.e+10, 3.e+10],\n",
       "       [4.e+00, 1.e+00]])"
      ]
     },
     "execution_count": 64,
     "metadata": {},
     "output_type": "execute_result"
    }
   ],
   "source": [
    "alpha=10**-10\n",
    "A/(alpha+B)"
   ]
  },
  {
   "cell_type": "code",
   "execution_count": 66,
   "metadata": {},
   "outputs": [
    {
     "data": {
      "text/plain": [
       "array([[3, 4],\n",
       "       [2, 3],\n",
       "       [5, 2]])"
      ]
     },
     "execution_count": 66,
     "metadata": {},
     "output_type": "execute_result"
    }
   ],
   "source": [
    "np.add(A,B)"
   ]
  },
  {
   "cell_type": "markdown",
   "metadata": {},
   "source": [
    "## Activity"
   ]
  },
  {
   "cell_type": "markdown",
   "metadata": {},
   "source": [
    "### Task 1"
   ]
  },
  {
   "cell_type": "markdown",
   "metadata": {},
   "source": [
    "Create a function named `mat_desc()` that througouhly describes a matrix, it should: <br>\n",
    "1. Displays the shape, size, and rank of the matrix. <br>\n",
    "2. Displays whether the matrix is square or non-square. <br>\n",
    "3. Displays whether the matrix is an empty matrix. <br>\n",
    "4. Displays if the matrix is an identity, ones, or zeros matrix <br>\n",
    "   \n",
    "Use 5 sample matrices in which their shapes are not lower than $(3,3)$.\n",
    "In your methodology, create a flowchart discuss the functions and methods you have done. Present your results in the results section showing the description of each matrix you have declared."
   ]
  },
  {
   "cell_type": "code",
   "execution_count": 83,
   "metadata": {},
   "outputs": [],
   "source": [
    "## Function area\n",
    "def mat_desc(matrix):\n",
    "    if matrix.size > 0:\n",
    "        make_identity = np.eye(5)\n",
    "        is_square = True if matrix.shape[0] == matrix.shape[1] else False \n",
    "        is_zero = True if np.all(matrix==0) else False #this is for zero matrix\n",
    "        is_one = True if np.all(matrix==1) else False #this is for one matrix\n",
    "        is_identity = True if np.array_equal(matrix,make_identity) else False\n",
    "        print(f'\\nMatrix:\\n{matrix}\\nShape:\\t{matrix.shape}\\nSize:\\t{matrix.size}\\nRank:\\t{matrix.ndim}'\n",
    "        f'\\nIs Square: {is_square}\\nIs Zeros: {is_zero}\\nIs Ones: {is_one}\\nIs Identity: {is_identity}')\n",
    "    else:\n",
    "        print(f'\\nMatrix is Null or Empty')"
   ]
  },
  {
   "cell_type": "code",
   "execution_count": 84,
   "metadata": {},
   "outputs": [],
   "source": [
    "## Matrix declarations\n",
    "\n",
    "#this is a square matrix\n",
    "square_mat = np.array([\n",
    "    [1,3,5],\n",
    "    [7,9,11],\n",
    "    [13,15,17]\n",
    "])\n",
    "\n",
    "#this is a non square matrix\n",
    "non_square_mat = np.array([\n",
    "    [0,2,4],\n",
    "    [6,8,10],\n",
    "    [12,14,16],\n",
    "    [18,20,22]\n",
    "])\n",
    "\n",
    "make_zeros = np.zeros([3, 3]) # this is a zero matrix\n",
    "make_ones = np.ones([4, 3]) # this is a ones matrix\n",
    "make_identities = np.eye(5) # this is a identity matrix\n",
    "null_mat = np.array([]) # this is a null/empty matrix"
   ]
  },
  {
   "cell_type": "code",
   "execution_count": 85,
   "metadata": {},
   "outputs": [
    {
     "name": "stdout",
     "output_type": "stream",
     "text": [
      "\n",
      "Matrix:\n",
      "[[ 1  3  5]\n",
      " [ 7  9 11]\n",
      " [13 15 17]]\n",
      "Shape:\t(3, 3)\n",
      "Size:\t9\n",
      "Rank:\t2\n",
      "Is Square: True\n",
      "Is Zeros: False\n",
      "Is Ones: False\n",
      "Is Identity: False\n",
      "\n",
      "Matrix:\n",
      "[[ 0  2  4]\n",
      " [ 6  8 10]\n",
      " [12 14 16]\n",
      " [18 20 22]]\n",
      "Shape:\t(4, 3)\n",
      "Size:\t12\n",
      "Rank:\t2\n",
      "Is Square: False\n",
      "Is Zeros: False\n",
      "Is Ones: False\n",
      "Is Identity: False\n",
      "\n",
      "Matrix:\n",
      "[[0. 0. 0.]\n",
      " [0. 0. 0.]\n",
      " [0. 0. 0.]]\n",
      "Shape:\t(3, 3)\n",
      "Size:\t9\n",
      "Rank:\t2\n",
      "Is Square: True\n",
      "Is Zeros: True\n",
      "Is Ones: False\n",
      "Is Identity: False\n",
      "\n",
      "Matrix:\n",
      "[[1. 1. 1.]\n",
      " [1. 1. 1.]\n",
      " [1. 1. 1.]\n",
      " [1. 1. 1.]]\n",
      "Shape:\t(4, 3)\n",
      "Size:\t12\n",
      "Rank:\t2\n",
      "Is Square: False\n",
      "Is Zeros: False\n",
      "Is Ones: True\n",
      "Is Identity: False\n",
      "\n",
      "Matrix:\n",
      "[[1. 0. 0. 0. 0.]\n",
      " [0. 1. 0. 0. 0.]\n",
      " [0. 0. 1. 0. 0.]\n",
      " [0. 0. 0. 1. 0.]\n",
      " [0. 0. 0. 0. 1.]]\n",
      "Shape:\t(5, 5)\n",
      "Size:\t25\n",
      "Rank:\t2\n",
      "Is Square: True\n",
      "Is Zeros: False\n",
      "Is Ones: False\n",
      "Is Identity: True\n",
      "\n",
      "Matrix is Null or Empty\n"
     ]
    }
   ],
   "source": [
    "## Test Areas\n",
    "mat_desc(square_mat) #this print for square matrix\n",
    "mat_desc(non_square_mat) #this print for non square matrix\n",
    "mat_desc(make_zeros) #this print for zero matrix\n",
    "mat_desc(make_ones) #this print for ones matrix\n",
    "mat_desc(make_identities) #this print for identity matrix\n",
    "mat_desc(null_mat) #this print for null/empty matrix"
   ]
  },
  {
   "cell_type": "markdown",
   "metadata": {},
   "source": [
    "### Task 2"
   ]
  },
  {
   "cell_type": "markdown",
   "metadata": {},
   "source": [
    "Create a function named `mat_operations()` that takes in two matrices or scalars a input parameters it should:<br>\n",
    " 1. Display the description of each matrix, if the parameter is a scalar it tells that it is a scalar rather than describing it as a matrix.\n",
    " 2. Determines if the matrices are viable for operation and returns your own error message if they are not viable.\n",
    " 3. Returns the sum of the matrices.\n",
    " 4. Returns the differen of the matrices.\n",
    " 5. Returns the element-wise multiplication of the matrices.\n",
    " 6. Returns the element-wise division of the matrices.\n",
    "\n",
    "Use 5 sample matrices in which their shapes are not lower than $(3,3)$.\n",
    "In your methodology, create a flowchart discuss the functions and methods you have done. Present your results in the results section showing the description of each matrix you have declared."
   ]
  },
  {
   "cell_type": "code",
   "execution_count": 9,
   "metadata": {},
   "outputs": [],
   "source": [
    "def mat_operations(matA, matB):\n",
    "    alpha = 10**-6\n",
    "    \n",
    "    if matA.size > 0:\n",
    "        make_identity = np.eye(3)\n",
    "        is_square = True if matA.shape[0] == matA.shape[1] else False \n",
    "        is_zero = True if np.all(matA==0) else False #this is for zero matrix\n",
    "        is_one = True if np.all(matA==1) else False #this is for one matrix\n",
    "        is_identity = True if np.array_equal(matA,make_identity) else False\n",
    "        print(f'\\nMatrix:\\n{matA}\\nShape:\\t{matA.shape}\\nSize:\\t{matA.size}\\nRank:\\t{matA.ndim}'\n",
    "        f'\\nIs Square: {is_square}\\nIs Zeros: {is_zero}\\nIs Ones: {is_one}\\nIs Identity: {is_identity}')\n",
    "    else:\n",
    "        print(f'\\nMatrix is Null or Empty')\n",
    "          \n",
    "    if matB.size > 0:\n",
    "        make_identity = np.eye(3)\n",
    "        is_square = True if matB.shape[0] == matB.shape[1] else False \n",
    "        is_zero = True if np.all(matB==0) else False #this is for zero matrix\n",
    "        is_one = True if np.all(matB==1) else False #this is for one matrix\n",
    "        is_identity = True if np.array_equal(matB,make_identity) else False\n",
    "        print(f'\\nMatrix:\\n{matB}\\nShape:\\t{matB.shape}\\nSize:\\t{matB.size}\\nRank:\\t{matB.ndim}'\n",
    "        f'\\nIs Square: {is_square}\\nIs Zeros: {is_zero}\\nIs Ones: {is_one}\\nIs Identity: {is_identity}')\n",
    "    else:\n",
    "        print(f'\\nMatrix is Null or Empty')\n",
    "    \n",
    "    if (matA.shape == matB.shape):\n",
    "        print(f'\\nThe sum of the matrices: \\n{np.add(matA,matB)}\\n'\n",
    "        f'\\nThe difference of the matrices is: \\n{np.subtract(matA,matB)}\\n'\n",
    "        f'\\nThe element-wise multiplication of the matrices: \\n{np.multiply(matA,matB)}\\n'\n",
    "        f'\\nThe element-wise division of the matrices: \\n{matA/(alpha+matB)}\\n')\n",
    "    elif (matA.shape != matB.shape):\n",
    "        print(f'\\nIt is not viable fo the operation to be executed')\n",
    "    else:\n",
    "        print('This is a scalar')"
   ]
  },
  {
   "cell_type": "code",
   "execution_count": 25,
   "metadata": {},
   "outputs": [],
   "source": [
    "A = np.array([\n",
    "    [1,3,5],\n",
    "    [7,9,11],\n",
    "    [13,15,17]\n",
    "])\n",
    "\n",
    "B = np.array([\n",
    "    [0,2,4],\n",
    "    [6,8,10],\n",
    "    [12,14,16]\n",
    "])\n",
    "\n",
    "make_zeros = np.zeros([3, 3]) # this is a zero matrix\n",
    "make_ones = np.ones([3, 3]) # this is a ones matrix\n",
    "make_identities = np.eye(3) # this is a identity matrix\n",
    "null_mat = np.array([]) # this is a null/empty matrix"
   ]
  },
  {
   "cell_type": "code",
   "execution_count": 26,
   "metadata": {},
   "outputs": [
    {
     "name": "stdout",
     "output_type": "stream",
     "text": [
      "\n",
      "Matrix:\n",
      "[[ 1  3  5]\n",
      " [ 7  9 11]\n",
      " [13 15 17]]\n",
      "Shape:\t(3, 3)\n",
      "Size:\t9\n",
      "Rank:\t2\n",
      "Is Square: True\n",
      "Is Zeros: False\n",
      "Is Ones: False\n",
      "Is Identity: False\n",
      "\n",
      "Matrix:\n",
      "[[ 0  2  4]\n",
      " [ 6  8 10]\n",
      " [12 14 16]]\n",
      "Shape:\t(3, 3)\n",
      "Size:\t9\n",
      "Rank:\t2\n",
      "Is Square: True\n",
      "Is Zeros: False\n",
      "Is Ones: False\n",
      "Is Identity: False\n",
      "\n",
      "The sum of the matrices: \n",
      "[[ 1  5  9]\n",
      " [13 17 21]\n",
      " [25 29 33]]\n",
      "\n",
      "The difference of the matrices is: \n",
      "[[1 1 1]\n",
      " [1 1 1]\n",
      " [1 1 1]]\n",
      "\n",
      "The element-wise multiplication of the matrices: \n",
      "[[  0   6  20]\n",
      " [ 42  72 110]\n",
      " [156 210 272]]\n",
      "\n",
      "The element-wise division of the matrices: \n",
      "[[1.00000000e+06 1.49999925e+00 1.24999969e+00]\n",
      " [1.16666647e+00 1.12499986e+00 1.09999989e+00]\n",
      " [1.08333324e+00 1.07142849e+00 1.06249993e+00]]\n",
      "\n"
     ]
    }
   ],
   "source": [
    "mat_operations(A, B)"
   ]
  },
  {
   "cell_type": "code",
   "execution_count": 29,
   "metadata": {},
   "outputs": [
    {
     "name": "stdout",
     "output_type": "stream",
     "text": [
      "\n",
      "Matrix:\n",
      "[[ 1  3  5]\n",
      " [ 7  9 11]\n",
      " [13 15 17]]\n",
      "Shape:\t(3, 3)\n",
      "Size:\t9\n",
      "Rank:\t2\n",
      "Is Square: True\n",
      "Is Zeros: False\n",
      "Is Ones: False\n",
      "Is Identity: False\n",
      "\n",
      "Matrix:\n",
      "[[1. 0. 0.]\n",
      " [0. 1. 0.]\n",
      " [0. 0. 1.]]\n",
      "Shape:\t(3, 3)\n",
      "Size:\t9\n",
      "Rank:\t2\n",
      "Is Square: True\n",
      "Is Zeros: False\n",
      "Is Ones: False\n",
      "Is Identity: True\n",
      "\n",
      "The sum of the matrices: \n",
      "[[ 2.  3.  5.]\n",
      " [ 7. 10. 11.]\n",
      " [13. 15. 18.]]\n",
      "\n",
      "The difference of the matrices is: \n",
      "[[ 0.  3.  5.]\n",
      " [ 7.  8. 11.]\n",
      " [13. 15. 16.]]\n",
      "\n",
      "The element-wise multiplication of the matrices: \n",
      "[[ 1.  0.  0.]\n",
      " [ 0.  9.  0.]\n",
      " [ 0.  0. 17.]]\n",
      "\n",
      "The element-wise division of the matrices: \n",
      "[[9.9999900e-01 3.0000000e+06 5.0000000e+06]\n",
      " [7.0000000e+06 8.9999910e+00 1.1000000e+07]\n",
      " [1.3000000e+07 1.5000000e+07 1.6999983e+01]]\n",
      "\n"
     ]
    }
   ],
   "source": [
    "mat_operations(A, make_identities)"
   ]
  },
  {
   "cell_type": "code",
   "execution_count": 30,
   "metadata": {},
   "outputs": [
    {
     "name": "stdout",
     "output_type": "stream",
     "text": [
      "\n",
      "Matrix:\n",
      "[[ 0  2  4]\n",
      " [ 6  8 10]\n",
      " [12 14 16]]\n",
      "Shape:\t(3, 3)\n",
      "Size:\t9\n",
      "Rank:\t2\n",
      "Is Square: True\n",
      "Is Zeros: False\n",
      "Is Ones: False\n",
      "Is Identity: False\n",
      "\n",
      "Matrix:\n",
      "[[1. 0. 0.]\n",
      " [0. 1. 0.]\n",
      " [0. 0. 1.]]\n",
      "Shape:\t(3, 3)\n",
      "Size:\t9\n",
      "Rank:\t2\n",
      "Is Square: True\n",
      "Is Zeros: False\n",
      "Is Ones: False\n",
      "Is Identity: True\n",
      "\n",
      "The sum of the matrices: \n",
      "[[ 1.  2.  4.]\n",
      " [ 6.  9. 10.]\n",
      " [12. 14. 17.]]\n",
      "\n",
      "The difference of the matrices is: \n",
      "[[-1.  2.  4.]\n",
      " [ 6.  7. 10.]\n",
      " [12. 14. 15.]]\n",
      "\n",
      "The element-wise multiplication of the matrices: \n",
      "[[ 0.  0.  0.]\n",
      " [ 0.  8.  0.]\n",
      " [ 0.  0. 16.]]\n",
      "\n",
      "The element-wise division of the matrices: \n",
      "[[0.0000000e+00 2.0000000e+06 4.0000000e+06]\n",
      " [6.0000000e+06 7.9999920e+00 1.0000000e+07]\n",
      " [1.2000000e+07 1.4000000e+07 1.5999984e+01]]\n",
      "\n"
     ]
    }
   ],
   "source": [
    "mat_operations(B, make_identities)"
   ]
  },
  {
   "cell_type": "code",
   "execution_count": 31,
   "metadata": {},
   "outputs": [
    {
     "name": "stdout",
     "output_type": "stream",
     "text": [
      "\n",
      "Matrix:\n",
      "[[1. 1. 1.]\n",
      " [1. 1. 1.]\n",
      " [1. 1. 1.]]\n",
      "Shape:\t(3, 3)\n",
      "Size:\t9\n",
      "Rank:\t2\n",
      "Is Square: True\n",
      "Is Zeros: False\n",
      "Is Ones: True\n",
      "Is Identity: False\n",
      "\n",
      "Matrix:\n",
      "[[1. 0. 0.]\n",
      " [0. 1. 0.]\n",
      " [0. 0. 1.]]\n",
      "Shape:\t(3, 3)\n",
      "Size:\t9\n",
      "Rank:\t2\n",
      "Is Square: True\n",
      "Is Zeros: False\n",
      "Is Ones: False\n",
      "Is Identity: True\n",
      "\n",
      "The sum of the matrices: \n",
      "[[2. 1. 1.]\n",
      " [1. 2. 1.]\n",
      " [1. 1. 2.]]\n",
      "\n",
      "The difference of the matrices is: \n",
      "[[0. 1. 1.]\n",
      " [1. 0. 1.]\n",
      " [1. 1. 0.]]\n",
      "\n",
      "The element-wise multiplication of the matrices: \n",
      "[[1. 0. 0.]\n",
      " [0. 1. 0.]\n",
      " [0. 0. 1.]]\n",
      "\n",
      "The element-wise division of the matrices: \n",
      "[[9.99999e-01 1.00000e+06 1.00000e+06]\n",
      " [1.00000e+06 9.99999e-01 1.00000e+06]\n",
      " [1.00000e+06 1.00000e+06 9.99999e-01]]\n",
      "\n"
     ]
    }
   ],
   "source": [
    "mat_operations(make_ones, make_identities)"
   ]
  },
  {
   "cell_type": "code",
   "execution_count": 32,
   "metadata": {},
   "outputs": [
    {
     "name": "stdout",
     "output_type": "stream",
     "text": [
      "\n",
      "Matrix:\n",
      "[[0. 0. 0.]\n",
      " [0. 0. 0.]\n",
      " [0. 0. 0.]]\n",
      "Shape:\t(3, 3)\n",
      "Size:\t9\n",
      "Rank:\t2\n",
      "Is Square: True\n",
      "Is Zeros: True\n",
      "Is Ones: False\n",
      "Is Identity: False\n",
      "\n",
      "Matrix:\n",
      "[[1. 0. 0.]\n",
      " [0. 1. 0.]\n",
      " [0. 0. 1.]]\n",
      "Shape:\t(3, 3)\n",
      "Size:\t9\n",
      "Rank:\t2\n",
      "Is Square: True\n",
      "Is Zeros: False\n",
      "Is Ones: False\n",
      "Is Identity: True\n",
      "\n",
      "The sum of the matrices: \n",
      "[[1. 0. 0.]\n",
      " [0. 1. 0.]\n",
      " [0. 0. 1.]]\n",
      "\n",
      "The difference of the matrices is: \n",
      "[[-1.  0.  0.]\n",
      " [ 0. -1.  0.]\n",
      " [ 0.  0. -1.]]\n",
      "\n",
      "The element-wise multiplication of the matrices: \n",
      "[[0. 0. 0.]\n",
      " [0. 0. 0.]\n",
      " [0. 0. 0.]]\n",
      "\n",
      "The element-wise division of the matrices: \n",
      "[[0. 0. 0.]\n",
      " [0. 0. 0.]\n",
      " [0. 0. 0.]]\n",
      "\n"
     ]
    }
   ],
   "source": [
    "mat_operations(make_zeros, make_identities)"
   ]
  },
  {
   "cell_type": "code",
   "execution_count": 37,
   "metadata": {
    "scrolled": false
   },
   "outputs": [
    {
     "name": "stdout",
     "output_type": "stream",
     "text": [
      "\n",
      "Matrix:\n",
      "[[0. 0. 0.]\n",
      " [0. 0. 0.]\n",
      " [0. 0. 0.]]\n",
      "Shape:\t(3, 3)\n",
      "Size:\t9\n",
      "Rank:\t2\n",
      "Is Square: True\n",
      "Is Zeros: True\n",
      "Is Ones: False\n",
      "Is Identity: False\n",
      "\n",
      "Matrix:\n",
      "[[1. 1. 1.]\n",
      " [1. 1. 1.]\n",
      " [1. 1. 1.]]\n",
      "Shape:\t(3, 3)\n",
      "Size:\t9\n",
      "Rank:\t2\n",
      "Is Square: True\n",
      "Is Zeros: False\n",
      "Is Ones: True\n",
      "Is Identity: False\n",
      "\n",
      "The sum of the matrices: \n",
      "[[1. 1. 1.]\n",
      " [1. 1. 1.]\n",
      " [1. 1. 1.]]\n",
      "\n",
      "The difference of the matrices is: \n",
      "[[-1. -1. -1.]\n",
      " [-1. -1. -1.]\n",
      " [-1. -1. -1.]]\n",
      "\n",
      "The element-wise multiplication of the matrices: \n",
      "[[0. 0. 0.]\n",
      " [0. 0. 0.]\n",
      " [0. 0. 0.]]\n",
      "\n",
      "The element-wise division of the matrices: \n",
      "[[0. 0. 0.]\n",
      " [0. 0. 0.]\n",
      " [0. 0. 0.]]\n",
      "\n"
     ]
    }
   ],
   "source": [
    "mat_operations(make_zeros, make_ones)"
   ]
  },
  {
   "cell_type": "code",
   "execution_count": 36,
   "metadata": {},
   "outputs": [
    {
     "name": "stdout",
     "output_type": "stream",
     "text": [
      "\n",
      "Matrix:\n",
      "[[1. 0. 0.]\n",
      " [0. 1. 0.]\n",
      " [0. 0. 1.]]\n",
      "Shape:\t(3, 3)\n",
      "Size:\t9\n",
      "Rank:\t2\n",
      "Is Square: True\n",
      "Is Zeros: False\n",
      "Is Ones: False\n",
      "Is Identity: True\n",
      "\n",
      "Matrix is Null or Empty\n",
      "\n",
      "It is not viable fo the operation to be executed\n"
     ]
    }
   ],
   "source": [
    "mat_operations(make_identities, null_mat)"
   ]
  },
  {
   "cell_type": "markdown",
   "metadata": {},
   "source": [
    "## Conclusion"
   ]
  },
  {
   "cell_type": "markdown",
   "metadata": {},
   "source": [
    "For your conclusion synthesize the concept and application of the laboratory. Briefly discuss what you have learned and achieved in this activity. Also answer the question: \"how can matrix operations solve problems in agriculture?\"."
   ]
  }
 ],
 "metadata": {
  "kernelspec": {
   "display_name": "Python 3",
   "language": "python",
   "name": "python3"
  },
  "language_info": {
   "codemirror_mode": {
    "name": "ipython",
    "version": 3
   },
   "file_extension": ".py",
   "mimetype": "text/x-python",
   "name": "python",
   "nbconvert_exporter": "python",
   "pygments_lexer": "ipython3",
   "version": "3.8.3"
  }
 },
 "nbformat": 4,
 "nbformat_minor": 4
}
